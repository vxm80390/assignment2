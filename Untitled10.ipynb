{
  "nbformat": 4,
  "nbformat_minor": 0,
  "metadata": {
    "colab": {
      "provenance": [],
      "authorship_tag": "ABX9TyNffc6DgI7Xm3mc3LE3TsN7",
      "include_colab_link": true
    },
    "kernelspec": {
      "name": "python3",
      "display_name": "Python 3"
    },
    "language_info": {
      "name": "python"
    }
  },
  "cells": [
    {
      "cell_type": "markdown",
      "metadata": {
        "id": "view-in-github",
        "colab_type": "text"
      },
      "source": [
        "<a href=\"https://colab.research.google.com/github/vxm80390/assignment2/blob/main/Untitled10.ipynb\" target=\"_parent\"><img src=\"https://colab.research.google.com/assets/colab-badge.svg\" alt=\"Open In Colab\"/></a>"
      ]
    },
    {
      "cell_type": "code",
      "execution_count": 1,
      "metadata": {
        "colab": {
          "base_uri": "https://localhost:8080/",
          "height": 1000
        },
        "id": "1tspO15TBfWR",
        "outputId": "0abcbc95-aa76-4608-b6e7-947be81cbf03"
      },
      "outputs": [
        {
          "output_type": "stream",
          "name": "stdout",
          "text": [
            "Downloading data from https://storage.googleapis.com/tensorflow/tf-keras-datasets/mnist.npz\n",
            "11490434/11490434 [==============================] - 0s 0us/step\n",
            "Epoch 1/20\n",
            "469/469 [==============================] - 22s 40ms/step - loss: 0.2469 - accuracy: 0.9262 - val_loss: 0.1025 - val_accuracy: 0.9681\n",
            "Epoch 2/20\n",
            "469/469 [==============================] - 11s 24ms/step - loss: 0.1015 - accuracy: 0.9687 - val_loss: 0.0762 - val_accuracy: 0.9771\n",
            "Epoch 3/20\n",
            "469/469 [==============================] - 11s 24ms/step - loss: 0.0708 - accuracy: 0.9774 - val_loss: 0.0641 - val_accuracy: 0.9790\n",
            "Epoch 4/20\n",
            "469/469 [==============================] - 12s 25ms/step - loss: 0.0573 - accuracy: 0.9810 - val_loss: 0.0668 - val_accuracy: 0.9782\n",
            "Epoch 5/20\n",
            "469/469 [==============================] - 12s 25ms/step - loss: 0.0476 - accuracy: 0.9849 - val_loss: 0.0581 - val_accuracy: 0.9828\n",
            "Epoch 6/20\n",
            "469/469 [==============================] - 10s 22ms/step - loss: 0.0381 - accuracy: 0.9882 - val_loss: 0.0631 - val_accuracy: 0.9811\n",
            "Epoch 7/20\n",
            "469/469 [==============================] - 12s 25ms/step - loss: 0.0330 - accuracy: 0.9891 - val_loss: 0.0656 - val_accuracy: 0.9811\n",
            "Epoch 8/20\n",
            "469/469 [==============================] - 11s 23ms/step - loss: 0.0293 - accuracy: 0.9908 - val_loss: 0.0669 - val_accuracy: 0.9812\n",
            "Epoch 9/20\n",
            "469/469 [==============================] - 12s 25ms/step - loss: 0.0296 - accuracy: 0.9902 - val_loss: 0.0581 - val_accuracy: 0.9834\n",
            "Epoch 10/20\n",
            "469/469 [==============================] - 13s 27ms/step - loss: 0.0266 - accuracy: 0.9908 - val_loss: 0.0667 - val_accuracy: 0.9813\n",
            "Epoch 11/20\n",
            "469/469 [==============================] - 12s 25ms/step - loss: 0.0220 - accuracy: 0.9923 - val_loss: 0.0593 - val_accuracy: 0.9841\n",
            "Epoch 12/20\n",
            "469/469 [==============================] - 12s 25ms/step - loss: 0.0213 - accuracy: 0.9929 - val_loss: 0.0648 - val_accuracy: 0.9825\n",
            "Epoch 13/20\n",
            "469/469 [==============================] - 11s 24ms/step - loss: 0.0187 - accuracy: 0.9937 - val_loss: 0.0668 - val_accuracy: 0.9845\n",
            "Epoch 14/20\n",
            "469/469 [==============================] - 10s 22ms/step - loss: 0.0193 - accuracy: 0.9935 - val_loss: 0.0661 - val_accuracy: 0.9843\n",
            "Epoch 15/20\n",
            "469/469 [==============================] - 11s 24ms/step - loss: 0.0175 - accuracy: 0.9942 - val_loss: 0.0817 - val_accuracy: 0.9825\n",
            "Epoch 16/20\n",
            "469/469 [==============================] - 12s 25ms/step - loss: 0.0204 - accuracy: 0.9930 - val_loss: 0.0795 - val_accuracy: 0.9819\n",
            "Epoch 17/20\n",
            "469/469 [==============================] - 12s 25ms/step - loss: 0.0191 - accuracy: 0.9937 - val_loss: 0.0741 - val_accuracy: 0.9825\n",
            "Epoch 18/20\n",
            "469/469 [==============================] - 12s 25ms/step - loss: 0.0144 - accuracy: 0.9954 - val_loss: 0.0802 - val_accuracy: 0.9822\n",
            "Epoch 19/20\n",
            "469/469 [==============================] - 11s 24ms/step - loss: 0.0151 - accuracy: 0.9949 - val_loss: 0.0764 - val_accuracy: 0.9840\n",
            "Epoch 20/20\n",
            "469/469 [==============================] - 12s 25ms/step - loss: 0.0152 - accuracy: 0.9949 - val_loss: 0.0703 - val_accuracy: 0.9854\n"
          ]
        },
        {
          "output_type": "display_data",
          "data": {
            "text/plain": [
              "<Figure size 640x480 with 1 Axes>"
            ],
            "image/png": "[encoded data removed]"
          },
          "metadata": {}
        },
        {
          "output_type": "stream",
          "name": "stdout",
          "text": [
            "1/1 [==============================] - 0s 92ms/step\n",
            "Model prediction: 7\n"
          ]
        }
      ],
      "source": [
        "import keras\n",
        "from keras.datasets import mnist\n",
        "from keras.models import Sequential\n",
        "from keras.layers import Dense, Dropout\n",
        "import matplotlib.pyplot as plt\n",
        "import numpy as np\n",
        "\n",
        "# load MNIST dataset\n",
        "(x_train, y_train), (x_test, y_test) = mnist.load_data()\n",
        "\n",
        "# normalize pixel values to range [0, 1]\n",
        "x_train = x_train.astype('float32') / 255\n",
        "x_test = x_test.astype('float32') / 255\n",
        "\n",
        "# convert class labels to binary class matrices\n",
        "num_classes = 10\n",
        "y_train = keras.utils.to_categorical(y_train, num_classes)\n",
        "y_test = keras.utils.to_categorical(y_test, num_classes)\n",
        "\n",
        "# create a simple neural network model\n",
        "model = Sequential()\n",
        "model.add(Dense(512, activation='relu', input_shape=(784,)))\n",
        "model.add(Dropout(0.2))\n",
        "model.add(Dense(512, activation='relu'))\n",
        "model.add(Dropout(0.2))\n",
        "model.add(Dense(num_classes, activation='softmax'))\n",
        "\n",
        "model.compile(loss='categorical_crossentropy', optimizer='adam', metrics=['accuracy'])\n",
        "\n",
        "# train the model\n",
        "model.fit(x_train.reshape(-1, 784), y_train, validation_data=(x_test.reshape(-1, 784), y_test),\n",
        "  epochs=20, batch_size=128)\n",
        "\n",
        "# plot one of the images in the test data\n",
        "plt.imshow(x_test[0], cmap='gray')\n",
        "plt.show()\n",
        "\n",
        "# make a prediction on the image using the trained model\n",
        "prediction = model.predict(x_test[0].reshape(1, -1))\n",
        "print('Model prediction:', np.argmax(prediction))"
      ]
    }
  ]
}